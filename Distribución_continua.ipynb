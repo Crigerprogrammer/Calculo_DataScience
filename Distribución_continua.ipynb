{
  "nbformat": 4,
  "nbformat_minor": 0,
  "metadata": {
    "colab": {
      "name": "Distribución continua.ipynb",
      "provenance": []
    },
    "kernelspec": {
      "name": "python3",
      "display_name": "Python 3"
    }
  },
  "cells": [
    {
      "cell_type": "code",
      "metadata": {
        "id": "XRZQBr1Lu5Bm"
      },
      "source": [
        "import pandas as pd\r\n",
        "import numpy as np\r\n",
        "import matplotlib.pyplot as plt\r\n",
        "from scipy.stats import norm"
      ],
      "execution_count": 1,
      "outputs": []
    },
    {
      "cell_type": "markdown",
      "metadata": {
        "id": "ADPAnkuqvVsT"
      },
      "source": [
        "### Distribución normal teórica"
      ]
    },
    {
      "cell_type": "code",
      "metadata": {
        "id": "SFH1kfSkvX8P"
      },
      "source": [
        "def gaussian(x, mu, sigma):\r\n",
        "  return 1/(sigma*np.sqrt(2*np.pi))*np.exp(-0.5*pow((x-mu)/sigma, 2))"
      ],
      "execution_count": 3,
      "outputs": []
    }
  ]
}