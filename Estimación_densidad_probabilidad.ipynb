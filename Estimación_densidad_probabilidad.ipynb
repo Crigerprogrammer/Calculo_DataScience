{
  "nbformat": 4,
  "nbformat_minor": 0,
  "metadata": {
    "colab": {
      "name": "Estimación densidad probabilidad.ipynb",
      "provenance": []
    },
    "kernelspec": {
      "name": "python3",
      "display_name": "Python 3"
    }
  },
  "cells": [
    {
      "cell_type": "code",
      "metadata": {
        "id": "GZLgyKNZyoyk"
      },
      "source": [
        "import numpy as np\r\n",
        "from matplotlib import pyplot\r\n",
        "from numpy.random import normal\r\n",
        "from scipy.stats import norm"
      ],
      "execution_count": 1,
      "outputs": []
    },
    {
      "cell_type": "markdown",
      "metadata": {
        "id": "q-nm2LUJy1S0"
      },
      "source": [
        "### Estimación Paramétrica"
      ]
    },
    {
      "cell_type": "code",
      "metadata": {
        "id": "51AaoHdky7td"
      },
      "source": [
        ""
      ],
      "execution_count": null,
      "outputs": []
    },
    {
      "cell_type": "markdown",
      "metadata": {
        "id": "fuWoUn4Gy4Ba"
      },
      "source": [
        "### Estimación no Paramétrica"
      ]
    },
    {
      "cell_type": "code",
      "metadata": {
        "id": "_1FhSVeNy7R9"
      },
      "source": [
        ""
      ],
      "execution_count": null,
      "outputs": []
    }
  ]
}