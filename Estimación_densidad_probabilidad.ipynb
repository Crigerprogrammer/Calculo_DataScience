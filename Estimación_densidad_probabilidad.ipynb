{
  "nbformat": 4,
  "nbformat_minor": 0,
  "metadata": {
    "colab": {
      "name": "Estimación densidad probabilidad.ipynb",
      "provenance": [],
      "collapsed_sections": []
    },
    "kernelspec": {
      "name": "python3",
      "display_name": "Python 3"
    }
  },
  "cells": [
    {
      "cell_type": "code",
      "metadata": {
        "id": "GZLgyKNZyoyk"
      },
      "source": [
        "import numpy as np\r\n",
        "from matplotlib import pyplot\r\n",
        "from numpy.random import normal\r\n",
        "from scipy.stats import norm"
      ],
      "execution_count": 1,
      "outputs": []
    },
    {
      "cell_type": "code",
      "metadata": {
        "colab": {
          "base_uri": "https://localhost:8080/",
          "height": 265
        },
        "id": "mJmZiJOp0E9L",
        "outputId": "b16c4773-376c-4b98-9e1d-893fc4e9ed30"
      },
      "source": [
        "sample = normal(size = 10000) # Generador \r\n",
        "pyplot.hist(sample, bins = 30)\r\n",
        "pyplot.show()"
      ],
      "execution_count": 3,
      "outputs": [
        {
          "output_type": "display_data",
          "data": {
            "image/png": "[encoded data removed]",
            "text/plain": [
              "<Figure size 432x288 with 1 Axes>"
            ]
          },
          "metadata": {
            "tags": [],
            "needs_background": "light"
          }
        }
      ]
    },
    {
      "cell_type": "markdown",
      "metadata": {
        "id": "q-nm2LUJy1S0"
      },
      "source": [
        "### Estimación Paramétrica"
      ]
    },
    {
      "cell_type": "code",
      "metadata": {
        "colab": {
          "base_uri": "https://localhost:8080/",
          "height": 265
        },
        "id": "51AaoHdky7td",
        "outputId": "68519512-9ebd-4b74-b695-10551412087f"
      },
      "source": [
        "sample = normal(loc=50, scale=5, size=1000) # mu = 50, sigma = 5\r\n",
        "mu = sample.mean()\r\n",
        "sigma = sample.std()\r\n",
        "dist = norm(mu, sigma)\r\n",
        "values = [value for value in range(30, 70)]\r\n",
        "probabilidades = [dist.pdf(value) for value in values]\r\n",
        "pyplot.hist(sample, bins=30, density=True)\r\n",
        "pyplot.plot(values, probabilidades)\r\n",
        "pyplot.show()"
      ],
      "execution_count": 4,
      "outputs": [
        {
          "output_type": "display_data",
          "data": {
            "image/png": "[encoded data removed]",
            "text/plain": [
              "<Figure size 432x288 with 1 Axes>"
            ]
          },
          "metadata": {
            "tags": [],
            "needs_background": "light"
          }
        }
      ]
    },
    {
      "cell_type": "markdown",
      "metadata": {
        "id": "fuWoUn4Gy4Ba"
      },
      "source": [
        "### Estimación no Paramétrica"
      ]
    },
    {
      "cell_type": "code",
      "metadata": {
        "id": "_1FhSVeNy7R9"
      },
      "source": [
        ""
      ],
      "execution_count": null,
      "outputs": []
    }
  ]
}