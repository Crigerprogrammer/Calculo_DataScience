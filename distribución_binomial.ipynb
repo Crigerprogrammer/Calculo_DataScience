{
  "nbformat": 4,
  "nbformat_minor": 0,
  "metadata": {
    "colab": {
      "name": "distribución binomial.ipynb",
      "provenance": []
    },
    "kernelspec": {
      "name": "python3",
      "display_name": "Python 3"
    }
  },
  "cells": [
    {
      "cell_type": "code",
      "metadata": {
        "id": "7_dMEbRUGqcB"
      },
      "source": [
        "import numpy as np\r\n",
        "from numpy.random import binomial\r\n",
        "from scipy.stats import binom\r\n",
        "from math import factorial\r\n",
        "import matplotlib.pyplot as plt"
      ],
      "execution_count": 3,
      "outputs": []
    },
    {
      "cell_type": "code",
      "metadata": {
        "id": "y35ePE9AHJQU"
      },
      "source": [
        "def my_binomial(k, n, p):\r\n",
        "  return factorial(n)/(factorial(k)*factorial(n-k))*pow(p,k)*pow(1-p,n-k)"
      ],
      "execution_count": 1,
      "outputs": []
    },
    {
      "cell_type": "code",
      "metadata": {
        "colab": {
          "base_uri": "https://localhost:8080/"
        },
        "id": "i56BHsJSII2_",
        "outputId": "34506f3a-aaf3-44cf-945c-6292f131e6c4"
      },
      "source": [
        "my_binomial(2, 3, 0.5)"
      ],
      "execution_count": 4,
      "outputs": [
        {
          "output_type": "execute_result",
          "data": {
            "text/plain": [
              "0.375"
            ]
          },
          "metadata": {
            "tags": []
          },
          "execution_count": 4
        }
      ]
    }
  ]
}