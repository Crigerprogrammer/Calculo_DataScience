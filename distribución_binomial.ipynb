{
  "nbformat": 4,
  "nbformat_minor": 0,
  "metadata": {
    "colab": {
      "name": "distribución binomial.ipynb",
      "provenance": []
    },
    "kernelspec": {
      "name": "python3",
      "display_name": "Python 3"
    }
  },
  "cells": [
    {
      "cell_type": "code",
      "metadata": {
        "id": "7_dMEbRUGqcB"
      },
      "source": [
        "import numpy as np\r\n",
        "from numpy.random import binomial\r\n",
        "from scipy.stats import binom\r\n",
        "from math import factorial\r\n",
        "import matplotlib.pyplot as plt"
      ],
      "execution_count": 3,
      "outputs": []
    },
    {
      "cell_type": "code",
      "metadata": {
        "id": "y35ePE9AHJQU"
      },
      "source": [
        "def my_binomial(k, n, p):\r\n",
        "  return factorial(n)/(factorial(k)*factorial(n-k))*pow(p,k)*pow(1-p,n-k)"
      ],
      "execution_count": 1,
      "outputs": []
    },
    {
      "cell_type": "code",
      "metadata": {
        "colab": {
          "base_uri": "https://localhost:8080/"
        },
        "id": "i56BHsJSII2_",
        "outputId": "34506f3a-aaf3-44cf-945c-6292f131e6c4"
      },
      "source": [
        "my_binomial(2, 3, 0.5)"
      ],
      "execution_count": 4,
      "outputs": [
        {
          "output_type": "execute_result",
          "data": {
            "text/plain": [
              "0.375"
            ]
          },
          "metadata": {
            "tags": []
          },
          "execution_count": 4
        }
      ]
    },
    {
      "cell_type": "code",
      "metadata": {
        "colab": {
          "base_uri": "https://localhost:8080/"
        },
        "id": "o3vpf3aJIqwu",
        "outputId": "2c5d0395-66b6-486a-be10-524110ca4641"
      },
      "source": [
        "dist = binom(3, 0.5)\r\n",
        "dist.pmf(2)"
      ],
      "execution_count": 5,
      "outputs": [
        {
          "output_type": "execute_result",
          "data": {
            "text/plain": [
              "0.375"
            ]
          },
          "metadata": {
            "tags": []
          },
          "execution_count": 5
        }
      ]
    },
    {
      "cell_type": "code",
      "metadata": {
        "colab": {
          "base_uri": "https://localhost:8080/"
        },
        "id": "4fs-ijXVJJv2",
        "outputId": "435e5469-9ce9-4111-9697-460fb1468b1e"
      },
      "source": [
        "dist.cdf(2)"
      ],
      "execution_count": 6,
      "outputs": [
        {
          "output_type": "execute_result",
          "data": {
            "text/plain": [
              "0.875"
            ]
          },
          "metadata": {
            "tags": []
          },
          "execution_count": 6
        }
      ]
    },
    {
      "cell_type": "markdown",
      "metadata": {
        "id": "UcBuQaasJ0Bk"
      },
      "source": [
        "### Simulaciones de sequencias con generadores aleatorios\r\n",
        "\r\n",
        "- Los generadores aleatorios tienen como propósito simular muestras de datos que resultarían de muestreos en la vida realde procesos aleatorios como lanzar una moneda o un dado "
      ]
    },
    {
      "cell_type": "code",
      "metadata": {
        "colab": {
          "base_uri": "https://localhost:8080/"
        },
        "id": "sqa57Js_KEVV",
        "outputId": "42d4eaf0-63af-49ca-8809-399afd74a8bb"
      },
      "source": [
        "# Simulación con 100 lanzamientos de moneda equilibrada\r\n",
        "p = 0.5\r\n",
        "n = 3\r\n",
        "binomial(n, p)"
      ],
      "execution_count": 11,
      "outputs": [
        {
          "output_type": "execute_result",
          "data": {
            "text/plain": [
              "3"
            ]
          },
          "metadata": {
            "tags": []
          },
          "execution_count": 11
        }
      ]
    },
    {
      "cell_type": "code",
      "metadata": {
        "id": "xVcho3vbMC7x"
      },
      "source": [
        "arr = []\r\n",
        "for _ in range(100):\r\n",
        "  arr.append(binomial(n, p))"
      ],
      "execution_count": 12,
      "outputs": []
    },
    {
      "cell_type": "code",
      "metadata": {
        "id": "j9_akiX9MItq"
      },
      "source": [
        "arr"
      ],
      "execution_count": null,
      "outputs": []
    },
    {
      "cell_type": "code",
      "metadata": {
        "colab": {
          "base_uri": "https://localhost:8080/",
          "height": 809
        },
        "id": "xXqVp4VXOwSl",
        "outputId": "ad35d4d2-6138-4b64-d7c6-0e72be115b32"
      },
      "source": [
        "def plot_hist(num_trials):\r\n",
        "  values = [0,1,2,3]\r\n",
        "  arr = []\r\n",
        "  for _ in range(num_trials):\r\n",
        "    arr.append(binomial(n, p))\r\n",
        "  \r\n",
        "  sim = np.unique(arr, return_counts=True)[1]/len(arr)\r\n",
        "  teorica = [binom(3, 0.5).pmf(k) for k in values]\r\n",
        "  plt.bar(values, sim, color='red')\r\n",
        "  plt.bar(values, teorica, alpha=0.5, color = 'blue')\r\n",
        "  plt.title('{} experimentos'.format(num_trials))\r\n",
        "  plt.show()\r\n",
        "\r\n",
        "plot_hist(20)\r\n",
        "plot_hist(200)\r\n",
        "plot_hist(20000)"
      ],
      "execution_count": 18,
      "outputs": [
        {
          "output_type": "display_data",
          "data": {
            "image/png": "[encoded data removed]",
            "text/plain": [
              "<Figure size 432x288 with 1 Axes>"
            ]
          },
          "metadata": {
            "tags": [],
            "needs_background": "light"
          }
        },
        {
          "output_type": "display_data",
          "data": {
            "image/png": "[encoded data removed]",
            "text/plain": [
              "<Figure size 432x288 with 1 Axes>"
            ]
          },
          "metadata": {
            "tags": [],
            "needs_background": "light"
          }
        },
        {
          "output_type": "display_data",
          "data": {
            "image/png": "[encoded data removed]",
            "text/plain": [
              "<Figure size 432x288 with 1 Axes>"
            ]
          },
          "metadata": {
            "tags": [],
            "needs_background": "light"
          }
        }
      ]
    }
  ]
}